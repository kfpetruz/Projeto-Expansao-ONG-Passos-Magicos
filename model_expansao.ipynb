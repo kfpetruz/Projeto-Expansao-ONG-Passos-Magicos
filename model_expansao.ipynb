{
 "cells": [
  {
   "cell_type": "markdown",
   "metadata": {},
   "source": [
    "# Bibliotecas"
   ]
  },
  {
   "cell_type": "code",
   "execution_count": 4,
   "metadata": {},
   "outputs": [],
   "source": [
    "import pandas as pd\n",
    "from sklearn.preprocessing import MinMaxScaler"
   ]
  },
  {
   "cell_type": "code",
   "execution_count": 37,
   "metadata": {},
   "outputs": [
    {
     "data": {
      "text/html": [
       "<div>\n",
       "<style scoped>\n",
       "    .dataframe tbody tr th:only-of-type {\n",
       "        vertical-align: middle;\n",
       "    }\n",
       "\n",
       "    .dataframe tbody tr th {\n",
       "        vertical-align: top;\n",
       "    }\n",
       "\n",
       "    .dataframe thead th {\n",
       "        text-align: right;\n",
       "    }\n",
       "</style>\n",
       "<table border=\"1\" class=\"dataframe\">\n",
       "  <thead>\n",
       "    <tr style=\"text-align: right;\">\n",
       "      <th></th>\n",
       "      <th>ANO</th>\n",
       "      <th>ANOS_PM</th>\n",
       "      <th>ANO_INGRESSO</th>\n",
       "      <th>BOLSISTA</th>\n",
       "      <th>CF</th>\n",
       "      <th>CG</th>\n",
       "      <th>CT</th>\n",
       "      <th>DEFASAGEM</th>\n",
       "      <th>DESTAQUE_IDA</th>\n",
       "      <th>DESTAQUE_IEG</th>\n",
       "      <th>...</th>\n",
       "      <th>NOTA_PORT</th>\n",
       "      <th>PEDRA</th>\n",
       "      <th>PONTO_VIRADA</th>\n",
       "      <th>QTD_AVAL</th>\n",
       "      <th>REC_AVA_1</th>\n",
       "      <th>REC_AVA_2</th>\n",
       "      <th>REC_AVA_3</th>\n",
       "      <th>REC_AVA_4</th>\n",
       "      <th>SINALIZADOR_INGRESSANTE</th>\n",
       "      <th>TURMA</th>\n",
       "    </tr>\n",
       "  </thead>\n",
       "  <tbody>\n",
       "    <tr>\n",
       "      <th>0</th>\n",
       "      <td>2020</td>\n",
       "      <td>2</td>\n",
       "      <td>NaN</td>\n",
       "      <td>NaN</td>\n",
       "      <td>NaN</td>\n",
       "      <td>NaN</td>\n",
       "      <td>NaN</td>\n",
       "      <td>NaN</td>\n",
       "      <td>Ponto a melhorar em 2021: Empenhar-se mais nas...</td>\n",
       "      <td>Seu destaque em 2020: A sua boa entrega das li...</td>\n",
       "      <td>...</td>\n",
       "      <td>NaN</td>\n",
       "      <td>Ametista</td>\n",
       "      <td>Não</td>\n",
       "      <td>NaN</td>\n",
       "      <td>NaN</td>\n",
       "      <td>NaN</td>\n",
       "      <td>NaN</td>\n",
       "      <td>NaN</td>\n",
       "      <td>NaN</td>\n",
       "      <td>NaN</td>\n",
       "    </tr>\n",
       "    <tr>\n",
       "      <th>1</th>\n",
       "      <td>2020</td>\n",
       "      <td>NaN</td>\n",
       "      <td>NaN</td>\n",
       "      <td>NaN</td>\n",
       "      <td>NaN</td>\n",
       "      <td>NaN</td>\n",
       "      <td>NaN</td>\n",
       "      <td>NaN</td>\n",
       "      <td>NaN</td>\n",
       "      <td>NaN</td>\n",
       "      <td>...</td>\n",
       "      <td>NaN</td>\n",
       "      <td>NaN</td>\n",
       "      <td>NaN</td>\n",
       "      <td>NaN</td>\n",
       "      <td>NaN</td>\n",
       "      <td>NaN</td>\n",
       "      <td>NaN</td>\n",
       "      <td>NaN</td>\n",
       "      <td>NaN</td>\n",
       "      <td>NaN</td>\n",
       "    </tr>\n",
       "    <tr>\n",
       "      <th>2</th>\n",
       "      <td>2020</td>\n",
       "      <td>2</td>\n",
       "      <td>NaN</td>\n",
       "      <td>NaN</td>\n",
       "      <td>NaN</td>\n",
       "      <td>NaN</td>\n",
       "      <td>NaN</td>\n",
       "      <td>NaN</td>\n",
       "      <td>Ponto a melhorar em 2021: Empenhar-se mais nas...</td>\n",
       "      <td>Seu destaque em 2020: A sua boa entrega das li...</td>\n",
       "      <td>...</td>\n",
       "      <td>NaN</td>\n",
       "      <td>Ametista</td>\n",
       "      <td>Não</td>\n",
       "      <td>NaN</td>\n",
       "      <td>NaN</td>\n",
       "      <td>NaN</td>\n",
       "      <td>NaN</td>\n",
       "      <td>NaN</td>\n",
       "      <td>NaN</td>\n",
       "      <td>NaN</td>\n",
       "    </tr>\n",
       "    <tr>\n",
       "      <th>3</th>\n",
       "      <td>2020</td>\n",
       "      <td>2</td>\n",
       "      <td>NaN</td>\n",
       "      <td>NaN</td>\n",
       "      <td>NaN</td>\n",
       "      <td>NaN</td>\n",
       "      <td>NaN</td>\n",
       "      <td>NaN</td>\n",
       "      <td>Ponto a melhorar em 2021: Empenhar-se mais nas...</td>\n",
       "      <td>Ponto a melhorar em 2021: Melhorar a sua entre...</td>\n",
       "      <td>...</td>\n",
       "      <td>NaN</td>\n",
       "      <td>Quartzo</td>\n",
       "      <td>Não</td>\n",
       "      <td>NaN</td>\n",
       "      <td>NaN</td>\n",
       "      <td>NaN</td>\n",
       "      <td>NaN</td>\n",
       "      <td>NaN</td>\n",
       "      <td>NaN</td>\n",
       "      <td>NaN</td>\n",
       "    </tr>\n",
       "    <tr>\n",
       "      <th>4</th>\n",
       "      <td>2020</td>\n",
       "      <td>1</td>\n",
       "      <td>NaN</td>\n",
       "      <td>NaN</td>\n",
       "      <td>NaN</td>\n",
       "      <td>NaN</td>\n",
       "      <td>NaN</td>\n",
       "      <td>NaN</td>\n",
       "      <td>Seu destaque em 2020: As suas boas notas na Pa...</td>\n",
       "      <td>Seu destaque em 2020: A sua boa entrega das li...</td>\n",
       "      <td>...</td>\n",
       "      <td>NaN</td>\n",
       "      <td>Ametista</td>\n",
       "      <td>Não</td>\n",
       "      <td>NaN</td>\n",
       "      <td>NaN</td>\n",
       "      <td>NaN</td>\n",
       "      <td>NaN</td>\n",
       "      <td>NaN</td>\n",
       "      <td>NaN</td>\n",
       "      <td>NaN</td>\n",
       "    </tr>\n",
       "  </tbody>\n",
       "</table>\n",
       "<p>5 rows × 38 columns</p>\n",
       "</div>"
      ],
      "text/plain": [
       "    ANO ANOS_PM  ANO_INGRESSO BOLSISTA  CF  CG  CT  DEFASAGEM  \\\n",
       "0  2020       2           NaN      NaN NaN NaN NaN        NaN   \n",
       "1  2020     NaN           NaN      NaN NaN NaN NaN        NaN   \n",
       "2  2020       2           NaN      NaN NaN NaN NaN        NaN   \n",
       "3  2020       2           NaN      NaN NaN NaN NaN        NaN   \n",
       "4  2020       1           NaN      NaN NaN NaN NaN        NaN   \n",
       "\n",
       "                                        DESTAQUE_IDA  \\\n",
       "0  Ponto a melhorar em 2021: Empenhar-se mais nas...   \n",
       "1                                                NaN   \n",
       "2  Ponto a melhorar em 2021: Empenhar-se mais nas...   \n",
       "3  Ponto a melhorar em 2021: Empenhar-se mais nas...   \n",
       "4  Seu destaque em 2020: As suas boas notas na Pa...   \n",
       "\n",
       "                                        DESTAQUE_IEG  ... NOTA_PORT     PEDRA  \\\n",
       "0  Seu destaque em 2020: A sua boa entrega das li...  ...       NaN  Ametista   \n",
       "1                                                NaN  ...       NaN       NaN   \n",
       "2  Seu destaque em 2020: A sua boa entrega das li...  ...       NaN  Ametista   \n",
       "3  Ponto a melhorar em 2021: Melhorar a sua entre...  ...       NaN   Quartzo   \n",
       "4  Seu destaque em 2020: A sua boa entrega das li...  ...       NaN  Ametista   \n",
       "\n",
       "   PONTO_VIRADA  QTD_AVAL  REC_AVA_1 REC_AVA_2  REC_AVA_3 REC_AVA_4  \\\n",
       "0           Não       NaN        NaN       NaN        NaN       NaN   \n",
       "1           NaN       NaN        NaN       NaN        NaN       NaN   \n",
       "2           Não       NaN        NaN       NaN        NaN       NaN   \n",
       "3           Não       NaN        NaN       NaN        NaN       NaN   \n",
       "4           Não       NaN        NaN       NaN        NaN       NaN   \n",
       "\n",
       "  SINALIZADOR_INGRESSANTE TURMA  \n",
       "0                     NaN   NaN  \n",
       "1                     NaN   NaN  \n",
       "2                     NaN   NaN  \n",
       "3                     NaN   NaN  \n",
       "4                     NaN   NaN  \n",
       "\n",
       "[5 rows x 38 columns]"
      ]
     },
     "execution_count": 37,
     "metadata": {},
     "output_type": "execute_result"
    }
   ],
   "source": [
    "dados_pede = pd.read_excel('C:\\\\Users\\\\ferre\\\\OneDrive\\\\Cursos\\\\Pós Graduação - Data Analytics - FIAP\\\\Pós Tech Fiap - Tainá e Keila - Grupo 79\\Datathon\\\\venv_streamlit\\\\tb_pesquisa_desenvolvimento_educacional_passos.xlsx')\n",
    "dados_pede.head()"
   ]
  },
  {
   "cell_type": "code",
   "execution_count": 71,
   "metadata": {},
   "outputs": [
    {
     "data": {
      "text/html": [
       "<div>\n",
       "<style scoped>\n",
       "    .dataframe tbody tr th:only-of-type {\n",
       "        vertical-align: middle;\n",
       "    }\n",
       "\n",
       "    .dataframe tbody tr th {\n",
       "        vertical-align: top;\n",
       "    }\n",
       "\n",
       "    .dataframe thead th {\n",
       "        text-align: right;\n",
       "    }\n",
       "</style>\n",
       "<table border=\"1\" class=\"dataframe\">\n",
       "  <thead>\n",
       "    <tr style=\"text-align: right;\">\n",
       "      <th></th>\n",
       "      <th>Município</th>\n",
       "      <th>Salário médio mensal dos trabalhadores formais</th>\n",
       "      <th>Índice de Desenvolvimento Humano Municipal (IDHM)</th>\n",
       "      <th>PIB per capita</th>\n",
       "      <th>Área da unidade territorial</th>\n",
       "      <th>População no último censo</th>\n",
       "      <th>Densidade demográfica habitante/km²</th>\n",
       "      <th>Pessoas em idade elegível</th>\n",
       "      <th>Distância</th>\n",
       "    </tr>\n",
       "  </thead>\n",
       "  <tbody>\n",
       "    <tr>\n",
       "      <th>0</th>\n",
       "      <td>Adamantina</td>\n",
       "      <td>2.2</td>\n",
       "      <td>0.790</td>\n",
       "      <td>38997.12</td>\n",
       "      <td>411.987</td>\n",
       "      <td>34687</td>\n",
       "      <td>84.19</td>\n",
       "      <td>7609</td>\n",
       "      <td>499.141743</td>\n",
       "    </tr>\n",
       "    <tr>\n",
       "      <th>1</th>\n",
       "      <td>Adolfo</td>\n",
       "      <td>1.8</td>\n",
       "      <td>0.730</td>\n",
       "      <td>32578.28</td>\n",
       "      <td>211.055</td>\n",
       "      <td>4351</td>\n",
       "      <td>20.62</td>\n",
       "      <td>1064</td>\n",
       "      <td>369.221881</td>\n",
       "    </tr>\n",
       "    <tr>\n",
       "      <th>2</th>\n",
       "      <td>Aguaí</td>\n",
       "      <td>2.3</td>\n",
       "      <td>0.715</td>\n",
       "      <td>35551.70</td>\n",
       "      <td>474.554</td>\n",
       "      <td>32072</td>\n",
       "      <td>67.58</td>\n",
       "      <td>8725</td>\n",
       "      <td>136.239243</td>\n",
       "    </tr>\n",
       "    <tr>\n",
       "      <th>3</th>\n",
       "      <td>Águas da Prata</td>\n",
       "      <td>2.2</td>\n",
       "      <td>0.781</td>\n",
       "      <td>25297.02</td>\n",
       "      <td>142.673</td>\n",
       "      <td>7369</td>\n",
       "      <td>51.65</td>\n",
       "      <td>1580</td>\n",
       "      <td>145.356177</td>\n",
       "    </tr>\n",
       "    <tr>\n",
       "      <th>4</th>\n",
       "      <td>Águas de Lindóia</td>\n",
       "      <td>1.9</td>\n",
       "      <td>0.745</td>\n",
       "      <td>30971.23</td>\n",
       "      <td>60.126</td>\n",
       "      <td>17930</td>\n",
       "      <td>298.21</td>\n",
       "      <td>4089</td>\n",
       "      <td>105.653242</td>\n",
       "    </tr>\n",
       "  </tbody>\n",
       "</table>\n",
       "</div>"
      ],
      "text/plain": [
       "          Município  Salário médio mensal dos trabalhadores formais  \\\n",
       "0        Adamantina                                             2.2   \n",
       "1            Adolfo                                             1.8   \n",
       "2             Aguaí                                             2.3   \n",
       "3    Águas da Prata                                             2.2   \n",
       "4  Águas de Lindóia                                             1.9   \n",
       "\n",
       "   Índice de Desenvolvimento Humano Municipal (IDHM)  PIB per capita  \\\n",
       "0                                              0.790        38997.12   \n",
       "1                                              0.730        32578.28   \n",
       "2                                              0.715        35551.70   \n",
       "3                                              0.781        25297.02   \n",
       "4                                              0.745        30971.23   \n",
       "\n",
       "   Área da unidade territorial  População no último censo  \\\n",
       "0                      411.987                      34687   \n",
       "1                      211.055                       4351   \n",
       "2                      474.554                      32072   \n",
       "3                      142.673                       7369   \n",
       "4                       60.126                      17930   \n",
       "\n",
       "   Densidade demográfica habitante/km²  Pessoas em idade elegível   Distância  \n",
       "0                                84.19                       7609  499.141743  \n",
       "1                                20.62                       1064  369.221881  \n",
       "2                                67.58                       8725  136.239243  \n",
       "3                                51.65                       1580  145.356177  \n",
       "4                               298.21                       4089  105.653242  "
      ]
     },
     "execution_count": 71,
     "metadata": {},
     "output_type": "execute_result"
    }
   ],
   "source": [
    "dados_externos = pd.read_excel('C:\\\\Users\\\\ferre\\\\OneDrive\\\\Cursos\\\\Pós Graduação - Data Analytics - FIAP\\\\Pós Tech Fiap - Tainá e Keila - Grupo 79\\Datathon\\\\venv_streamlit\\\\tb_populacao_economia_genero_idade.xlsx')\n",
    "dados_externos.head()"
   ]
  },
  {
   "cell_type": "code",
   "execution_count": 73,
   "metadata": {},
   "outputs": [
    {
     "data": {
      "text/plain": [
       "Município                                             0\n",
       "Salário médio mensal dos trabalhadores formais        0\n",
       "Índice de Desenvolvimento Humano Municipal (IDHM)     0\n",
       "PIB per capita                                        0\n",
       "Área da unidade territorial                           0\n",
       "População no último censo                             0\n",
       "Densidade demográfica habitante/km²                   0\n",
       "Pessoas em idade elegível                             0\n",
       "Distância                                            12\n",
       "dtype: int64"
      ]
     },
     "execution_count": 73,
     "metadata": {},
     "output_type": "execute_result"
    }
   ],
   "source": [
    "dados_externos.isnull().sum()"
   ]
  },
  {
   "cell_type": "code",
   "execution_count": 72,
   "metadata": {},
   "outputs": [
    {
     "data": {
      "text/plain": [
       "(645, 9)"
      ]
     },
     "execution_count": 72,
     "metadata": {},
     "output_type": "execute_result"
    }
   ],
   "source": [
    "dados_externos.shape"
   ]
  },
  {
   "cell_type": "code",
   "execution_count": 40,
   "metadata": {},
   "outputs": [
    {
     "name": "stdout",
     "output_type": "stream",
     "text": [
      "<class 'pandas.core.frame.DataFrame'>\n",
      "RangeIndex: 4047 entries, 0 to 4046\n",
      "Data columns (total 38 columns):\n",
      " #   Column                    Non-Null Count  Dtype  \n",
      "---  ------                    --------------  -----  \n",
      " 0   ANO                       4047 non-null   int64  \n",
      " 1   ANOS_PM                   728 non-null    object \n",
      " 2   ANO_INGRESSO              862 non-null    float64\n",
      " 3   BOLSISTA                  862 non-null    object \n",
      " 4   CF                        862 non-null    float64\n",
      " 5   CG                        862 non-null    float64\n",
      " 6   CT                        862 non-null    float64\n",
      " 7   DEFASAGEM                 686 non-null    float64\n",
      " 8   DESTAQUE_IDA              1590 non-null   object \n",
      " 9   DESTAQUE_IEG              1590 non-null   object \n",
      " 10  DESTAQUE_IPV              1565 non-null   object \n",
      " 11  FASE                      1548 non-null   float64\n",
      " 12  IAA                       2275 non-null   float64\n",
      " 13  IAN                       2275 non-null   float64\n",
      " 14  IDA                       2275 non-null   float64\n",
      " 15  IDADE_ALUNO               728 non-null    object \n",
      " 16  IEG                       2275 non-null   float64\n",
      " 17  INDE                      2276 non-null   object \n",
      " 18  INDE_CONCEITO             728 non-null    object \n",
      " 19  INDICADO_BOLSA            862 non-null    object \n",
      " 20  INSTITUICAO_ENSINO_ALUNO  1414 non-null   object \n",
      " 21  IPP                       2275 non-null   float64\n",
      " 22  IPS                       2275 non-null   float64\n",
      " 23  IPV                       2275 non-null   float64\n",
      " 24  NIVEL_IDEAL               1548 non-null   object \n",
      " 25  NOME                      4047 non-null   object \n",
      " 26  NOTA_ING                  285 non-null    float64\n",
      " 27  NOTA_MAT                  860 non-null    float64\n",
      " 28  NOTA_PORT                 860 non-null    float64\n",
      " 29  PEDRA                     2276 non-null   object \n",
      " 30  PONTO_VIRADA              2250 non-null   object \n",
      " 31  QTD_AVAL                  862 non-null    float64\n",
      " 32  REC_AVA_1                 1548 non-null   object \n",
      " 33  REC_AVA_2                 1548 non-null   object \n",
      " 34  REC_AVA_3                 1312 non-null   object \n",
      " 35  REC_AVA_4                 971 non-null    object \n",
      " 36  SINALIZADOR_INGRESSANTE   686 non-null    object \n",
      " 37  TURMA                     1548 non-null   object \n",
      "dtypes: float64(17), int64(1), object(20)\n",
      "memory usage: 1.2+ MB\n"
     ]
    }
   ],
   "source": [
    "dados_pede.info()"
   ]
  },
  {
   "cell_type": "code",
   "execution_count": 41,
   "metadata": {},
   "outputs": [
    {
     "data": {
      "text/html": [
       "<div>\n",
       "<style scoped>\n",
       "    .dataframe tbody tr th:only-of-type {\n",
       "        vertical-align: middle;\n",
       "    }\n",
       "\n",
       "    .dataframe tbody tr th {\n",
       "        vertical-align: top;\n",
       "    }\n",
       "\n",
       "    .dataframe thead th {\n",
       "        text-align: right;\n",
       "    }\n",
       "</style>\n",
       "<table border=\"1\" class=\"dataframe\">\n",
       "  <thead>\n",
       "    <tr style=\"text-align: right;\">\n",
       "      <th></th>\n",
       "      <th>NOME</th>\n",
       "      <th>IDADE_ALUNO</th>\n",
       "    </tr>\n",
       "  </thead>\n",
       "  <tbody>\n",
       "    <tr>\n",
       "      <th>0</th>\n",
       "      <td>ALUNO-1</td>\n",
       "      <td>11</td>\n",
       "    </tr>\n",
       "    <tr>\n",
       "      <th>1</th>\n",
       "      <td>ALUNO-2</td>\n",
       "      <td>NaN</td>\n",
       "    </tr>\n",
       "    <tr>\n",
       "      <th>2</th>\n",
       "      <td>ALUNO-3</td>\n",
       "      <td>12</td>\n",
       "    </tr>\n",
       "    <tr>\n",
       "      <th>3</th>\n",
       "      <td>ALUNO-4</td>\n",
       "      <td>10</td>\n",
       "    </tr>\n",
       "    <tr>\n",
       "      <th>4</th>\n",
       "      <td>ALUNO-5</td>\n",
       "      <td>10</td>\n",
       "    </tr>\n",
       "  </tbody>\n",
       "</table>\n",
       "</div>"
      ],
      "text/plain": [
       "      NOME IDADE_ALUNO\n",
       "0  ALUNO-1          11\n",
       "1  ALUNO-2         NaN\n",
       "2  ALUNO-3          12\n",
       "3  ALUNO-4          10\n",
       "4  ALUNO-5          10"
      ]
     },
     "execution_count": 41,
     "metadata": {},
     "output_type": "execute_result"
    }
   ],
   "source": [
    "idade_aluno = dados_pede[['NOME', 'IDADE_ALUNO']]\n",
    "#.groupby('IDADE_ALUNO').count()\n",
    "idade_aluno.head()"
   ]
  },
  {
   "cell_type": "code",
   "execution_count": 42,
   "metadata": {},
   "outputs": [
    {
     "name": "stdout",
     "output_type": "stream",
     "text": [
      "<class 'pandas.core.frame.DataFrame'>\n",
      "RangeIndex: 4047 entries, 0 to 4046\n",
      "Data columns (total 2 columns):\n",
      " #   Column       Non-Null Count  Dtype \n",
      "---  ------       --------------  ----- \n",
      " 0   NOME         4047 non-null   object\n",
      " 1   IDADE_ALUNO  728 non-null    object\n",
      "dtypes: object(2)\n",
      "memory usage: 63.4+ KB\n"
     ]
    }
   ],
   "source": [
    "idade_aluno.info()"
   ]
  },
  {
   "cell_type": "code",
   "execution_count": null,
   "metadata": {},
   "outputs": [],
   "source": [
    "idade_aluno['IDADE_ALUNO'] = idade_aluno['IDADE_ALUNO'].str.replace('D108', '0')"
   ]
  },
  {
   "cell_type": "code",
   "execution_count": 57,
   "metadata": {},
   "outputs": [
    {
     "name": "stderr",
     "output_type": "stream",
     "text": [
      "C:\\Users\\ferre\\AppData\\Local\\Temp\\ipykernel_11848\\3174307791.py:1: SettingWithCopyWarning: \n",
      "A value is trying to be set on a copy of a slice from a DataFrame.\n",
      "Try using .loc[row_indexer,col_indexer] = value instead\n",
      "\n",
      "See the caveats in the documentation: https://pandas.pydata.org/pandas-docs/stable/user_guide/indexing.html#returning-a-view-versus-a-copy\n",
      "  idade_aluno['IDADE_ALUNO'] = idade_aluno['IDADE_ALUNO'].fillna(0).astype(int)\n"
     ]
    }
   ],
   "source": [
    "idade_aluno['IDADE_ALUNO'] = idade_aluno['IDADE_ALUNO'].fillna(0).astype(int)"
   ]
  },
  {
   "cell_type": "code",
   "execution_count": 58,
   "metadata": {},
   "outputs": [
    {
     "name": "stdout",
     "output_type": "stream",
     "text": [
      "<class 'pandas.core.frame.DataFrame'>\n",
      "RangeIndex: 4047 entries, 0 to 4046\n",
      "Data columns (total 2 columns):\n",
      " #   Column       Non-Null Count  Dtype \n",
      "---  ------       --------------  ----- \n",
      " 0   NOME         4047 non-null   object\n",
      " 1   IDADE_ALUNO  4047 non-null   int32 \n",
      "dtypes: int32(1), object(1)\n",
      "memory usage: 47.6+ KB\n"
     ]
    }
   ],
   "source": [
    "idade_aluno.info()"
   ]
  },
  {
   "cell_type": "code",
   "execution_count": 62,
   "metadata": {},
   "outputs": [
    {
     "data": {
      "text/plain": [
       "NOME           ALUNO-1\n",
       "IDADE_ALUNO          7\n",
       "dtype: object"
      ]
     },
     "execution_count": 62,
     "metadata": {},
     "output_type": "execute_result"
    }
   ],
   "source": [
    "#idade_aluno['IDADE_ALUNO'].min()\n",
    "\n",
    "idade_aluno[idade_aluno['IDADE_ALUNO'] > 0].min()"
   ]
  },
  {
   "cell_type": "code",
   "execution_count": 60,
   "metadata": {},
   "outputs": [
    {
     "data": {
      "text/plain": [
       "20"
      ]
     },
     "execution_count": 60,
     "metadata": {},
     "output_type": "execute_result"
    }
   ],
   "source": [
    "idade_aluno['IDADE_ALUNO'].max()"
   ]
  },
  {
   "cell_type": "code",
   "execution_count": 66,
   "metadata": {},
   "outputs": [
    {
     "data": {
      "text/html": [
       "<div>\n",
       "<style scoped>\n",
       "    .dataframe tbody tr th:only-of-type {\n",
       "        vertical-align: middle;\n",
       "    }\n",
       "\n",
       "    .dataframe tbody tr th {\n",
       "        vertical-align: top;\n",
       "    }\n",
       "\n",
       "    .dataframe thead th {\n",
       "        text-align: right;\n",
       "    }\n",
       "</style>\n",
       "<table border=\"1\" class=\"dataframe\">\n",
       "  <thead>\n",
       "    <tr style=\"text-align: right;\">\n",
       "      <th></th>\n",
       "      <th>NOME</th>\n",
       "      <th>IDADE_ALUNO</th>\n",
       "    </tr>\n",
       "  </thead>\n",
       "  <tbody>\n",
       "    <tr>\n",
       "      <th>29</th>\n",
       "      <td>ALUNO-30</td>\n",
       "      <td>7</td>\n",
       "    </tr>\n",
       "    <tr>\n",
       "      <th>75</th>\n",
       "      <td>ALUNO-76</td>\n",
       "      <td>7</td>\n",
       "    </tr>\n",
       "    <tr>\n",
       "      <th>456</th>\n",
       "      <td>ALUNO-457</td>\n",
       "      <td>7</td>\n",
       "    </tr>\n",
       "    <tr>\n",
       "      <th>505</th>\n",
       "      <td>ALUNO-506</td>\n",
       "      <td>7</td>\n",
       "    </tr>\n",
       "    <tr>\n",
       "      <th>759</th>\n",
       "      <td>ALUNO-760</td>\n",
       "      <td>7</td>\n",
       "    </tr>\n",
       "    <tr>\n",
       "      <th>802</th>\n",
       "      <td>ALUNO-803</td>\n",
       "      <td>7</td>\n",
       "    </tr>\n",
       "    <tr>\n",
       "      <th>885</th>\n",
       "      <td>ALUNO-886</td>\n",
       "      <td>7</td>\n",
       "    </tr>\n",
       "    <tr>\n",
       "      <th>1094</th>\n",
       "      <td>ALUNO-1095</td>\n",
       "      <td>7</td>\n",
       "    </tr>\n",
       "    <tr>\n",
       "      <th>1281</th>\n",
       "      <td>ALUNO-1282</td>\n",
       "      <td>7</td>\n",
       "    </tr>\n",
       "  </tbody>\n",
       "</table>\n",
       "</div>"
      ],
      "text/plain": [
       "            NOME  IDADE_ALUNO\n",
       "29      ALUNO-30            7\n",
       "75      ALUNO-76            7\n",
       "456    ALUNO-457            7\n",
       "505    ALUNO-506            7\n",
       "759    ALUNO-760            7\n",
       "802    ALUNO-803            7\n",
       "885    ALUNO-886            7\n",
       "1094  ALUNO-1095            7\n",
       "1281  ALUNO-1282            7"
      ]
     },
     "execution_count": 66,
     "metadata": {},
     "output_type": "execute_result"
    }
   ],
   "source": [
    "idade_aluno.loc[idade_aluno['IDADE_ALUNO'] == 7]"
   ]
  },
  {
   "cell_type": "code",
   "execution_count": 67,
   "metadata": {},
   "outputs": [
    {
     "data": {
      "text/plain": [
       "Município                                            0\n",
       "Salário médio mensal dos trabalhadores formais       0\n",
       "Índice de Desenvolvimento Humano Municipal (IDHM)    0\n",
       "PIB per capita                                       0\n",
       "Área da unidade territorial                          0\n",
       "População no último censo                            0\n",
       "Densidade demográfica habitante/km²                  0\n",
       "Total Homens                                         0\n",
       "Total Mulheres                                       0\n",
       "dtype: int64"
      ]
     },
     "execution_count": 67,
     "metadata": {},
     "output_type": "execute_result"
    }
   ],
   "source": [
    "dados_externos.isnull().sum()"
   ]
  },
  {
   "cell_type": "code",
   "execution_count": null,
   "metadata": {},
   "outputs": [],
   "source": []
  },
  {
   "cell_type": "code",
   "execution_count": 68,
   "metadata": {},
   "outputs": [
    {
     "data": {
      "text/html": [
       "<div>\n",
       "<style scoped>\n",
       "    .dataframe tbody tr th:only-of-type {\n",
       "        vertical-align: middle;\n",
       "    }\n",
       "\n",
       "    .dataframe tbody tr th {\n",
       "        vertical-align: top;\n",
       "    }\n",
       "\n",
       "    .dataframe thead th {\n",
       "        text-align: right;\n",
       "    }\n",
       "</style>\n",
       "<table border=\"1\" class=\"dataframe\">\n",
       "  <thead>\n",
       "    <tr style=\"text-align: right;\">\n",
       "      <th></th>\n",
       "      <th>População no último censo</th>\n",
       "      <th>Total Homens</th>\n",
       "      <th>Total Mulheres</th>\n",
       "    </tr>\n",
       "  </thead>\n",
       "  <tbody>\n",
       "    <tr>\n",
       "      <th>count</th>\n",
       "      <td>6.450000e+02</td>\n",
       "      <td>6.450000e+02</td>\n",
       "      <td>6.450000e+02</td>\n",
       "    </tr>\n",
       "    <tr>\n",
       "      <th>mean</th>\n",
       "      <td>6.885463e+04</td>\n",
       "      <td>3.317268e+04</td>\n",
       "      <td>3.568196e+04</td>\n",
       "    </tr>\n",
       "    <tr>\n",
       "      <th>std</th>\n",
       "      <td>4.644210e+05</td>\n",
       "      <td>2.186790e+05</td>\n",
       "      <td>2.457487e+05</td>\n",
       "    </tr>\n",
       "    <tr>\n",
       "      <th>min</th>\n",
       "      <td>9.070000e+02</td>\n",
       "      <td>4.590000e+02</td>\n",
       "      <td>4.480000e+02</td>\n",
       "    </tr>\n",
       "    <tr>\n",
       "      <th>25%</th>\n",
       "      <td>5.466000e+03</td>\n",
       "      <td>2.748000e+03</td>\n",
       "      <td>2.727000e+03</td>\n",
       "    </tr>\n",
       "    <tr>\n",
       "      <th>50%</th>\n",
       "      <td>1.316300e+04</td>\n",
       "      <td>6.705000e+03</td>\n",
       "      <td>6.518000e+03</td>\n",
       "    </tr>\n",
       "    <tr>\n",
       "      <th>75%</th>\n",
       "      <td>3.832400e+04</td>\n",
       "      <td>1.905900e+04</td>\n",
       "      <td>1.982400e+04</td>\n",
       "    </tr>\n",
       "    <tr>\n",
       "      <th>max</th>\n",
       "      <td>1.145200e+07</td>\n",
       "      <td>5.386695e+06</td>\n",
       "      <td>6.065304e+06</td>\n",
       "    </tr>\n",
       "  </tbody>\n",
       "</table>\n",
       "</div>"
      ],
      "text/plain": [
       "       População no último censo  Total Homens  Total Mulheres\n",
       "count               6.450000e+02  6.450000e+02    6.450000e+02\n",
       "mean                6.885463e+04  3.317268e+04    3.568196e+04\n",
       "std                 4.644210e+05  2.186790e+05    2.457487e+05\n",
       "min                 9.070000e+02  4.590000e+02    4.480000e+02\n",
       "25%                 5.466000e+03  2.748000e+03    2.727000e+03\n",
       "50%                 1.316300e+04  6.705000e+03    6.518000e+03\n",
       "75%                 3.832400e+04  1.905900e+04    1.982400e+04\n",
       "max                 1.145200e+07  5.386695e+06    6.065304e+06"
      ]
     },
     "execution_count": 68,
     "metadata": {},
     "output_type": "execute_result"
    }
   ],
   "source": [
    "dados_externos.describe()"
   ]
  },
  {
   "cell_type": "code",
   "execution_count": null,
   "metadata": {},
   "outputs": [],
   "source": []
  }
 ],
 "metadata": {
  "kernelspec": {
   "display_name": "datathon",
   "language": "python",
   "name": "python3"
  },
  "language_info": {
   "codemirror_mode": {
    "name": "ipython",
    "version": 3
   },
   "file_extension": ".py",
   "mimetype": "text/x-python",
   "name": "python",
   "nbconvert_exporter": "python",
   "pygments_lexer": "ipython3",
   "version": "3.10.9"
  }
 },
 "nbformat": 4,
 "nbformat_minor": 2
}
